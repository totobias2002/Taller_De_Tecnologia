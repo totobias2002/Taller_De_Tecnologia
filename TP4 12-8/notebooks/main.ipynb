{
 "cells": [
  {
   "cell_type": "code",
   "execution_count": 3,
   "outputs": [],
   "source": [
    "import numpy as np\n",
    "import pandas as pd\n",
    "\n",
    "data = pd.read_csv(\"../data/datos.csv\",skipinitialspace=True)\n",
    "\n",
    "def minuscula(valor):\n",
    "  if type(valor) == str:\n",
    "    return valor.lower()\n",
    "  else:\n",
    "    return valor\n",
    "\n",
    "def numerosLimpios(valor):\n",
    "    valor = str(valor)\n",
    "    for char in valor:\n",
    "        if not char.isnumeric() and char != \".\":\n",
    "            valor = valor.replace(char, \"\")\n",
    "    return valor\n",
    "\n",
    "def corregirSexo(valor):\n",
    "    valor = str(valor)\n",
    "    valor.lower()\n",
    "    if valor.startswith('m'):\n",
    "        valor = 'm'\n",
    "    elif valor.startswith('h'):\n",
    "        valor = 'h'\n",
    "    elif valor.startswith('n'):\n",
    "        valor = 'nb'\n",
    "    else:\n",
    "        valor = np.nan\n",
    "    return valor\n",
    "\n",
    "def corregirObservaciones(valor):\n",
    "    valor = str(valor)\n",
    "    if valor.startswith('hiper'):\n",
    "        valor = \"hipertension\"\n",
    "    elif valor.__contains__(\"cabeza\"):\n",
    "        valor = \"dolor de cabeza\"\n",
    "    else:\n",
    "        valor = \"ninguna\"\n",
    "    return valor\n",
    "\n",
    "def corregirLU(valor):\n",
    "    valor = str(valor)\n",
    "    for char in valor:\n",
    "        if not char.isnumeric():\n",
    "            valor = valor.replace(char,\"/\")\n",
    "        valor = valor.replace(\"//\",\"/\")\n",
    "    return valor\n",
    "\n",
    "def corregirNull(valor):\n",
    "    if valor == \"\":\n",
    "        valor = np.nan\n",
    "    return valor"
   ],
   "metadata": {
    "collapsed": false,
    "pycharm": {
     "name": "#%%\n"
    }
   }
  },
  {
   "cell_type": "code",
   "execution_count": 4,
   "outputs": [
    {
     "name": "stdout",
     "output_type": "stream",
     "text": [
      "    Edad Altura  Peso  Promedio Sexo      LU      Observación\n",
      "0     25   1.80    83      7.79    h  125/89          ninguna\n",
      "1     21   1.89    86      9.70    h   35/88          ninguna\n",
      "2     39   1.54    50      7.10    m  142/80     hipertension\n",
      "3     49   1.66    70      6.54    m  553/83          ninguna\n",
      "4     31   1.70    81      7.21    h  495/83     hipertension\n",
      "5     33   1.74    93      7.10    h   25/78          ninguna\n",
      "6     29   1.81  82.5      6.90    h  445/81          ninguna\n",
      "7     19   1.82  86.3      8.43    h    5/84          ninguna\n",
      "8     20   1.76    75     10.00    m    1/81          ninguna\n",
      "10    32   1.64    60      9.10    m  400/80          ninguna\n",
      "11    59   1.70    67      8.99   nb  100/89          ninguna\n",
      "12    34   1.81    97      7.46    h    1/89          ninguna\n",
      "13    49   1.78   432      7.41    h  500/86  dolor de cabeza\n",
      "14    51   1.77    75      9.10    h   25/85     hipertension\n",
      "17    41   1.80     8      9.20    h  099/89          ninguna\n",
      "19    28   1.68    68      7.54    m  145/81          ninguna\n"
     ]
    }
   ],
   "source": [
    "data = data.applymap(minuscula)\n",
    "data[\"Altura\"] = data[\"Altura\"].apply(numerosLimpios)\n",
    "data[\"Peso\"] = data[\"Peso\"].apply(numerosLimpios)\n",
    "data[\"Sexo\"] = data[\"Sexo\"].apply(corregirSexo)\n",
    "data[\"Observación\"] = data[\"Observación\"].apply(corregirObservaciones)\n",
    "data[\"LU\"] = data[\"LU\"].apply(corregirLU)\n",
    "data = data.applymap(corregirNull)\n",
    "data = data.dropna()\n",
    "\n",
    "print(data)\n",
    "data.to_csv('../data/DatosLimpios.csv')"
   ],
   "metadata": {
    "collapsed": false,
    "pycharm": {
     "name": "#%%\n"
    }
   }
  }
 ],
 "metadata": {
  "kernelspec": {
   "display_name": "Python 3",
   "language": "python",
   "name": "python3"
  },
  "language_info": {
   "codemirror_mode": {
    "name": "ipython",
    "version": 2
   },
   "file_extension": ".py",
   "mimetype": "text/x-python",
   "name": "python",
   "nbconvert_exporter": "python",
   "pygments_lexer": "ipython2",
   "version": "2.7.6"
  }
 },
 "nbformat": 4,
 "nbformat_minor": 0
}