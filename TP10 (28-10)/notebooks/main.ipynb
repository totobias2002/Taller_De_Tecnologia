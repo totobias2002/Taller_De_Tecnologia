{
 "cells": [
  {
   "cell_type": "code",
   "execution_count": 393,
   "metadata": {
    "collapsed": true
   },
   "outputs": [
    {
     "name": "stdout",
     "output_type": "stream",
     "text": [
      "1. Barrios comuna 3\n",
      "           barrio    perimetro          area\n",
      "12  SAN CRISTOBAL  5987.226479  2.043711e+06\n",
      "24      BALVANERA  8375.821811  4.342280e+06\n"
     ]
    }
   ],
   "source": [
    "import pandas as pd\n",
    "\n",
    "barrios = pd.read_csv(\"../data/barrios.csv\", sep=\",\")\n",
    "casos = pd.read_csv(\"../data/casos.csv\", sep=\",\")\n",
    "comunas = pd.read_csv(\"../data/comunas.csv\", sep=\",\")\n",
    "\n",
    "print(\"1. Barrios comuna 3\")\n",
    "c3 = barrios.comuna == 3\n",
    "barrios3 = barrios[[\"barrio\",\"perimetro\",\"area\"]]\n",
    "print(barrios3[c3])"
   ]
  },
  {
   "cell_type": "code",
   "execution_count": 394,
   "outputs": [
    {
     "name": "stdout",
     "output_type": "stream",
     "text": [
      "2. Barrios comuna entre 4 y 10\n",
      "               barrio     perimetro          area\n",
      "4             ALMAGRO   8537.901368  4.050752e+06\n",
      "5           CABALLITO  10990.964471  6.851029e+06\n",
      "9              FLORES  15772.439510  8.590784e+06\n",
      "13              BOEDO   6602.510266  2.609851e+06\n",
      "17          MATADEROS  11124.635792  7.398179e+06\n",
      "18       VILLA LUGANO  15057.468389  9.296142e+06\n",
      "30  PARQUE AVELLANEDA  10165.614028  4.732708e+06\n",
      "31   PARQUE CHACABUCO   8406.914321  3.832117e+06\n",
      "34    VILLA RIACHUELO  10596.826739  4.232596e+06\n",
      "35      VILLA SOLDATI  12441.695877  8.688164e+06\n",
      "38            LINIERS   9256.927321  4.374419e+06\n"
     ]
    }
   ],
   "source": [
    "print(\"2. Barrios comuna entre 4 y 10\")\n",
    "c410 = (barrios.comuna > 4) & (barrios.comuna < 10)\n",
    "barrios410 = barrios[[\"barrio\",\"perimetro\",\"area\"]]\n",
    "print(barrios410[c410])"
   ],
   "metadata": {
    "collapsed": false,
    "pycharm": {
     "name": "#%%\n"
    }
   }
  },
  {
   "cell_type": "code",
   "execution_count": 395,
   "outputs": [
    {
     "name": "stdout",
     "output_type": "stream",
     "text": [
      "3. Perimetro y area de comuna con indice 5\n",
      "   COMUNAS     PERIMETRO          AREA\n",
      "1      6.0  10990.964471  6.851029e+06\n"
     ]
    }
   ],
   "source": [
    "print(\"3. Perimetro y area de comuna con indice 5\")\n",
    "comunaBarrios = barrios[\"comuna\"]\n",
    "comunaBI5 = barrios.comuna[barrios.index == 5]\n",
    "comunaInt = comunas.COMUNAS==int(comunaBI5)\n",
    "combarri5 = comunas[[\"COMUNAS\",\"PERIMETRO\",\"AREA\"]]\n",
    "print(combarri5[comunaInt])"
   ],
   "metadata": {
    "collapsed": false,
    "pycharm": {
     "name": "#%%\n"
    }
   }
  },
  {
   "cell_type": "code",
   "execution_count": 396,
   "outputs": [
    {
     "name": "stdout",
     "output_type": "stream",
     "text": [
      "4. Numero comunas con barrios que empiecen con V\n",
      "Comuna 15\n",
      "Comuna 11\n",
      "Comuna 10\n",
      "Comuna 8\n",
      "Comuna 12\n"
     ]
    }
   ],
   "source": [
    "print(\"4. Numero comunas con barrios que empiecen con V\")\n",
    "cV = barrios.barrio.str.startswith('V')\n",
    "barriosCV = barrios.comuna[cV].unique().tolist()\n",
    "for i in barriosCV:\n",
    "  print(\"Comuna\",i)"
   ],
   "metadata": {
    "collapsed": false,
    "pycharm": {
     "name": "#%%\n"
    }
   }
  },
  {
   "cell_type": "code",
   "execution_count": 397,
   "outputs": [
    {
     "name": "stdout",
     "output_type": "stream",
     "text": [
      "5. Area comunas con barrios que tengan A\n",
      "               barrio          area\n",
      "0           CHACARITA  3.115707e+06\n",
      "1            PATERNAL  2.229829e+06\n",
      "2        VILLA CRESPO  3.615978e+06\n",
      "3    VILLA DEL PARQUE  3.399596e+06\n",
      "4             ALMAGRO  4.050752e+06\n",
      "5           CABALLITO  6.851029e+06\n",
      "6    VILLA SANTA RITA  2.153691e+06\n",
      "7        MONTE CASTRO  2.627481e+06\n",
      "8          VILLA REAL  1.334146e+06\n",
      "10           FLORESTA  2.320641e+06\n",
      "12      SAN CRISTOBAL  2.043711e+06\n",
      "14    VELEZ SARSFIELD  2.400518e+06\n",
      "15         VILLA LURO  2.566937e+06\n",
      "16   PARQUE PATRICIOS  3.743440e+06\n",
      "17          MATADEROS  7.398179e+06\n",
      "18       VILLA LUGANO  9.296142e+06\n",
      "19          SAN TELMO  1.232270e+06\n",
      "20           SAAVEDRA  5.538677e+06\n",
      "21            COGHLAN  1.279951e+06\n",
      "22      VILLA URQUIZA  5.449059e+06\n",
      "23         COLEGIALES  2.289774e+06\n",
      "24          BALVANERA  4.342280e+06\n",
      "25  VILLA GRAL. MITRE  2.162275e+06\n",
      "26        PARQUE CHAS  1.385412e+06\n",
      "27          AGRONOMIA  2.122169e+06\n",
      "28      VILLA ORTUZAR  1.853802e+06\n",
      "29           BARRACAS  7.953453e+06\n",
      "30  PARQUE AVELLANEDA  4.732708e+06\n",
      "31   PARQUE CHACABUCO  3.832117e+06\n",
      "32      NUEVA POMPEYA  4.951511e+06\n",
      "33            PALERMO  1.584587e+07\n",
      "34    VILLA RIACHUELO  4.232596e+06\n",
      "35      VILLA SOLDATI  8.688164e+06\n",
      "36   VILLA PUEYRREDON  3.303240e+06\n",
      "37       VILLA DEVOTO  6.404481e+06\n",
      "39          VERSALLES  1.406834e+06\n",
      "40      PUERTO MADERO  5.040971e+06\n",
      "41          MONSERRAT  2.198622e+06\n",
      "42        SAN NICOLAS  2.289008e+06\n",
      "43           BELGRANO  7.999240e+06\n",
      "44           RECOLETA  6.317265e+06\n",
      "47               BOCA  5.036240e+06\n"
     ]
    }
   ],
   "source": [
    "print(\"5. Area comunas con barrios que tengan A\")\n",
    "cA = barrios.barrio.str.contains('A')\n",
    "barriosA = barrios[[\"barrio\",\"area\"]]\n",
    "print(barriosA[cA])"
   ],
   "metadata": {
    "collapsed": false,
    "pycharm": {
     "name": "#%%\n"
    }
   }
  },
  {
   "cell_type": "code",
   "execution_count": 398,
   "outputs": [
    {
     "name": "stdout",
     "output_type": "stream",
     "text": [
      "6. Perimetro de comuna con indice 15\n",
      "12    21411.738344\n",
      "Name: PERIMETRO, dtype: float64\n"
     ]
    }
   ],
   "source": [
    "print(\"6. Perimetro de comuna con indice 15\")\n",
    "comunaC15 = casos.comuna[casos.index == 15]\n",
    "comunavalor = comunas.COMUNAS==int(comunaC15)\n",
    "print(comunas.PERIMETRO[comunavalor])"
   ],
   "metadata": {
    "collapsed": false,
    "pycharm": {
     "name": "#%%\n"
    }
   }
  },
  {
   "cell_type": "code",
   "execution_count": 399,
   "outputs": [
    {
     "name": "stdout",
     "output_type": "stream",
     "text": [
      "7. Area de barrio con caso de indice 7\n",
      "             barrio          area\n",
      "3  VILLA DEL PARQUE  3.399596e+06\n"
     ]
    }
   ],
   "source": [
    "print(\"7. Area de barrio con caso de indice 7\")\n",
    "barrioC7 = casos.barrio[casos.index == 7]\n",
    "bar = barrioC7.tolist()[0]\n",
    "condicion = barrios.barrio == bar\n",
    "barDf = barrios[[\"barrio\",\"area\"]]\n",
    "print(barDf[condicion])"
   ],
   "metadata": {
    "collapsed": false,
    "pycharm": {
     "name": "#%%\n"
    }
   }
  },
  {
   "cell_type": "code",
   "execution_count": 400,
   "outputs": [
    {
     "name": "stdout",
     "output_type": "stream",
     "text": [
      "8. Indice, Nombre, Comuna de barrios asociados a casos entre 6.000.000 y 7.000.000\n",
      "              barrio  comuna\n",
      "0          CHACARITA      15\n",
      "4            ALMAGRO       5\n",
      "9             FLORES       7\n",
      "11      CONSTITUCION       1\n",
      "17         MATADEROS       9\n",
      "20          SAAVEDRA      12\n",
      "22     VILLA URQUIZA      12\n",
      "28     VILLA ORTUZAR      15\n",
      "29          BARRACAS       4\n",
      "31  PARQUE CHACABUCO       7\n",
      "33           PALERMO      14\n",
      "42       SAN NICOLAS       1\n",
      "43          BELGRANO      13\n",
      "44          RECOLETA       2\n",
      "45            RETIRO       1\n"
     ]
    }
   ],
   "source": [
    "print(\"8. Indice, Nombre, Comuna de barrios asociados a casos entre 6.000.000 y 7.000.000\")\n",
    "c6m7m = (casos.numero_de_caso > 6000000) & (casos.numero_de_caso < 7000000)\n",
    "casoscomuna = casos.barrio[c6m7m]\n",
    "b = barrios.barrio.isin(casoscomuna)\n",
    "barriosDf = barrios[[\"barrio\",\"comuna\"]]\n",
    "print(barriosDf[b])"
   ],
   "metadata": {
    "collapsed": false,
    "pycharm": {
     "name": "#%%\n"
    }
   }
  },
  {
   "cell_type": "code",
   "execution_count": 401,
   "outputs": [
    {
     "name": "stdout",
     "output_type": "stream",
     "text": [
      "9. Genero y edad de personas en barrio de indice 3\n",
      "        genero  edad\n",
      "7    masculino    29\n",
      "150  masculino    30\n",
      "354  masculino    52\n",
      "459   femenino    25\n",
      "509   femenino    41\n"
     ]
    }
   ],
   "source": [
    "print(\"9. Genero y edad de personas en barrio de indice 3\")\n",
    "b3 = barrios.barrio[barrios.index == 3].tolist()[0]\n",
    "barr = casos.barrio == b3\n",
    "B3df = casos[[\"genero\",\"edad\"]]\n",
    "print(B3df[barr])"
   ],
   "metadata": {
    "collapsed": false,
    "pycharm": {
     "name": "#%%\n"
    }
   }
  },
  {
   "cell_type": "code",
   "execution_count": 402,
   "outputs": [
    {
     "name": "stdout",
     "output_type": "stream",
     "text": [
      "10. Nombre e Indice de barrios con tipo de contagio en investigacion\n",
      "               barrio\n",
      "0           CHACARITA\n",
      "7        MONTE CASTRO\n",
      "9              FLORES\n",
      "11       CONSTITUCION\n",
      "13              BOEDO\n",
      "14    VELEZ SARSFIELD\n",
      "17          MATADEROS\n",
      "18       VILLA LUGANO\n",
      "19          SAN TELMO\n",
      "20           SAAVEDRA\n",
      "24          BALVANERA\n",
      "25  VILLA GRAL. MITRE\n",
      "29           BARRACAS\n",
      "30  PARQUE AVELLANEDA\n",
      "31   PARQUE CHACABUCO\n",
      "33            PALERMO\n",
      "35      VILLA SOLDATI\n",
      "41          MONSERRAT\n",
      "44           RECOLETA\n",
      "46              NUÑEZ\n"
     ]
    }
   ],
   "source": [
    "print(\"10. Nombre e Indice de barrios con tipo de contagio en investigacion\")\n",
    "bei = casos.barrio[casos.tipo_contagio == \"En Investigación\"]\n",
    "bei1 = barrios.barrio.isin(bei)\n",
    "barrioeidf = barrios[[\"barrio\"]]\n",
    "print(barrioeidf[bei1])"
   ],
   "metadata": {
    "collapsed": false,
    "pycharm": {
     "name": "#%%\n"
    }
   }
  },
  {
   "cell_type": "code",
   "execution_count": 403,
   "outputs": [
    {
     "name": "stdout",
     "output_type": "stream",
     "text": [
      "11. Nombre e Indice de barrios con casos de menores de edad\n",
      "           barrio\n",
      "0       CHACARITA\n",
      "4         ALMAGRO\n",
      "5       CABALLITO\n",
      "9          FLORES\n",
      "17      MATADEROS\n",
      "18   VILLA LUGANO\n",
      "22  VILLA URQUIZA\n",
      "32  NUEVA POMPEYA\n",
      "37   VILLA DEVOTO\n",
      "43       BELGRANO\n",
      "44       RECOLETA\n",
      "45         RETIRO\n"
     ]
    }
   ],
   "source": [
    "print(\"11. Nombre e Indice de barrios con casos de menores de edad\")\n",
    "bme = casos.barrio[casos.edad < 18]\n",
    "bmec = barrios.barrio.isin(bme)\n",
    "bmedf = barrios[[\"barrio\"]]\n",
    "print(bmedf[bmec])"
   ],
   "metadata": {
    "collapsed": false,
    "pycharm": {
     "name": "#%%\n"
    }
   }
  },
  {
   "cell_type": "code",
   "execution_count": 404,
   "outputs": [
    {
     "name": "stdout",
     "output_type": "stream",
     "text": [
      "12. Indice, N° de caso, Genero y Edad de casos con barrios de indice menor a 4\n",
      "     numero_de_caso     genero  edad\n",
      "7           7673498  masculino    29\n",
      "19          7673629  masculino    68\n",
      "49          7692683  masculino    25\n",
      "99          7718539  masculino    18\n",
      "150         7721916  masculino    30\n",
      "154         7722007  masculino    31\n",
      "160         7725230  masculino    58\n",
      "161         7725232  masculino    33\n",
      "167         7726081   femenino    35\n",
      "208         7735475  masculino    34\n",
      "230         7736770  masculino    69\n",
      "231         7736847  masculino    45\n",
      "240         7736991  masculino    77\n",
      "264         7717778  masculino    43\n",
      "266         7717796   femenino    38\n",
      "280         7718104  masculino    63\n",
      "346         9690247   femenino    58\n",
      "354        10487114  masculino    52\n",
      "379         8367848   femenino    40\n",
      "413         6270671  masculino    56\n",
      "435        15519416   femenino    42\n",
      "437         1629445   femenino    27\n",
      "446         5018271  masculino    72\n",
      "451         5362506  masculino    72\n",
      "459         5321867   femenino    25\n",
      "509         7721664   femenino    41\n",
      "566         4888070   femenino    21\n",
      "569         4927681   femenino     7\n"
     ]
    }
   ],
   "source": [
    "print(\"12. Indice, N° de caso, Genero y Edad de casos con barrios de indice menor a 4\")\n",
    "cbmy4 = barrios.barrio[barrios.index < 4]\n",
    "bbc = casos.barrio.isin(cbmy4)\n",
    "csdf = casos[[\"numero_de_caso\",\"genero\",\"edad\"]]\n",
    "print(csdf[bbc])"
   ],
   "metadata": {
    "collapsed": false,
    "pycharm": {
     "name": "#%%\n"
    }
   }
  },
  {
   "cell_type": "code",
   "execution_count": 405,
   "outputs": [
    {
     "name": "stdout",
     "output_type": "stream",
     "text": [
      "13. Indice, N° de caso, Genero y Edad de casos que no esten en la comuna 13\n",
      "     numero_de_caso     genero  edad\n",
      "2           7673340   femenino    12\n",
      "3           7673364   femenino    55\n",
      "5           7673446  masculino    63\n",
      "7           7673498  masculino    29\n",
      "9           7673546   femenino    34\n",
      "..              ...        ...   ...\n",
      "588         5149936   femenino    74\n",
      "590         5166041  masculino    55\n",
      "591         5166069  masculino    37\n",
      "593         5178556  masculino    22\n",
      "594         5178787   femenino    23\n",
      "\n",
      "[306 rows x 3 columns]\n"
     ]
    }
   ],
   "source": [
    "print(\"13. Indice, N° de caso, Genero y Edad de casos que no esten en la comuna 13\")\n",
    "nocm13 = comunas.COMUNAS[comunas.COMUNAS != 13]\n",
    "cc13 = casos.comuna.isin(nocm13)\n",
    "csDF = casos[[\"numero_de_caso\",\"genero\",\"edad\"]]\n",
    "print(csDF[cc13])\n"
   ],
   "metadata": {
    "collapsed": false,
    "pycharm": {
     "name": "#%%\n"
    }
   }
  }
 ],
 "metadata": {
  "kernelspec": {
   "display_name": "Python 3",
   "language": "python",
   "name": "python3"
  },
  "language_info": {
   "codemirror_mode": {
    "name": "ipython",
    "version": 2
   },
   "file_extension": ".py",
   "mimetype": "text/x-python",
   "name": "python",
   "nbconvert_exporter": "python",
   "pygments_lexer": "ipython2",
   "version": "2.7.6"
  }
 },
 "nbformat": 4,
 "nbformat_minor": 0
}