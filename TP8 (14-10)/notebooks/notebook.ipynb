{
 "cells": [
  {
   "cell_type": "code",
   "execution_count": 13,
   "metadata": {
    "collapsed": true
   },
   "outputs": [
    {
     "name": "stdout",
     "output_type": "stream",
     "text": [
      "                    Nombre del Artista  Popularidad  Seguidores\n",
      "0                         Taylor Swift           96    44758818\n",
      "1                         Lana Del Rey           88    14385886\n",
      "2                        Ariana Grande           94    71193149\n",
      "3                                Lorde           83     8535289\n",
      "4                              Beyoncé           87    29319288\n",
      "5                          Frank Ocean           85     8421913\n",
      "6                       Olivia Rodrigo           92     9845839\n",
      "7                            Lady Gaga           88    19727444\n",
      "8                           Kanye West           95    15516393\n",
      "9                        Billie Eilish           94    51477868\n",
      "10                            Doja Cat           96    11618885\n",
      "11                            Dua Lipa           94    29380572\n",
      "12  Original Broadway Cast of Hamilton           77      405334\n",
      "13                         Nicki Minaj           90    22986386\n",
      "14                        Nathy Peluso           77      686544\n",
      "15                               Björk           64     1447481\n",
      "16                             Nirvana           84    13886486\n",
      "17                         The Carters           60     1235761\n",
      "18              Florence + The Machine           77     5696526\n",
      "19                          The Weeknd           96    38102015\n"
     ]
    }
   ],
   "source": [
    "import requests\n",
    "import base64\n",
    "import json\n",
    "import pandas as pd\n",
    "from secrets import *\n",
    "from getpass import getpass\n",
    "\n",
    "\n",
    "if __name__ == '__main__':\n",
    "\n",
    "    token = \"BQBqV2tU6s2h8-BtjIRU1WsrAkvNUs5VrKxmv8oyP2Nt5oIQC_LLJZ5LE7sTYnZDUzLbPNShtUZon1i22mHHC9UfPYuesRbtSL9vnmh2WMo4SRZvYeVEQcEujJpuIl67SbKYr6arbE4IyCOYtKr7teI6\"\n",
    "\n",
    "    # Step 2 - Use Access Token to call playlist endpoint\n",
    "\n",
    "    playlistUrl = f\"https://api.spotify.com/v1/me/top/artists?time_range=medium_term\"\n",
    "    headers = {\n",
    "        \"Authorization\": \"Bearer \" + token\n",
    "    }\n",
    "\n",
    "    res = requests.get(url=playlistUrl, headers=headers)\n",
    "    resJson = res.json()\n",
    "    # print(json.dumps(res.json(), indent=2))\n",
    "\n",
    "    for artist in resJson['items']:\n",
    "        linea = artist['name'] + \",\" + str(artist['popularity']) + \",\" + str(artist[\"followers\"][\"total\"]) + \"\\n\"\n",
    "        archivo = open(\"hola.csv\", \"a\")\n",
    "        archivo.write(linea)\n",
    "        archivo.close()\n",
    "\n",
    "    print(pd.read_csv(\"hola.csv\"))"
   ]
  },
  {
   "cell_type": "code",
   "execution_count": null,
   "outputs": [],
   "source": [],
   "metadata": {
    "collapsed": false,
    "pycharm": {
     "name": "#%%\n"
    }
   }
  }
 ],
 "metadata": {
  "kernelspec": {
   "display_name": "Python 3",
   "language": "python",
   "name": "python3"
  },
  "language_info": {
   "codemirror_mode": {
    "name": "ipython",
    "version": 2
   },
   "file_extension": ".py",
   "mimetype": "text/x-python",
   "name": "python",
   "nbconvert_exporter": "python",
   "pygments_lexer": "ipython2",
   "version": "2.7.6"
  }
 },
 "nbformat": 4,
 "nbformat_minor": 0
}